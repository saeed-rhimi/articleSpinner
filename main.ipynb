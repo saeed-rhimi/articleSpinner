{
 "cells": [
  {
   "cell_type": "code",
   "execution_count": 1,
   "id": "initial_id",
   "metadata": {
    "collapsed": true,
    "ExecuteTime": {
     "end_time": "2023-10-08T19:32:07.098216600Z",
     "start_time": "2023-10-08T19:32:06.490068900Z"
    }
   },
   "outputs": [],
   "source": [
    "import numpy as np\n",
    "import pandas as pd\n",
    "import textwrap\n",
    "\n",
    "import nltk\n",
    "from nltk import word_tokenize\n",
    "from nltk.tokenize.treebank import TreebankWordDetokenizer"
   ]
  },
  {
   "cell_type": "code",
   "execution_count": 2,
   "outputs": [
    {
     "name": "stderr",
     "output_type": "stream",
     "text": [
      "[nltk_data] Downloading package punkt to\n",
      "[nltk_data]     C:\\Users\\Saeed\\AppData\\Roaming\\nltk_data...\n",
      "[nltk_data]   Package punkt is already up-to-date!\n"
     ]
    },
    {
     "data": {
      "text/plain": "True"
     },
     "execution_count": 2,
     "metadata": {},
     "output_type": "execute_result"
    }
   ],
   "source": [
    "nltk.download('punkt')"
   ],
   "metadata": {
    "collapsed": false,
    "ExecuteTime": {
     "end_time": "2023-10-08T19:32:07.807384200Z",
     "start_time": "2023-10-08T19:32:07.098216600Z"
    }
   },
   "id": "1d0d2326f85169ee"
  },
  {
   "cell_type": "markdown",
   "source": [
    "# Loading DataSet"
   ],
   "metadata": {
    "collapsed": false
   },
   "id": "1d414fa41a98d0d5"
  },
  {
   "cell_type": "code",
   "execution_count": 3,
   "outputs": [],
   "source": [
    "df = pd.read_csv('bbc_text_cls.csv')"
   ],
   "metadata": {
    "collapsed": false,
    "ExecuteTime": {
     "end_time": "2023-10-08T19:32:07.908883300Z",
     "start_time": "2023-10-08T19:32:07.801399600Z"
    }
   },
   "id": "77e99b5c6326a9b0"
  },
  {
   "cell_type": "code",
   "execution_count": 4,
   "outputs": [
    {
     "data": {
      "text/plain": "                                                text    labels\n0  Ad sales boost Time Warner profit\\n\\nQuarterly...  business\n1  Dollar gains on Greenspan speech\\n\\nThe dollar...  business\n2  Yukos unit buyer faces loan claim\\n\\nThe owner...  business\n3  High fuel prices hit BA's profits\\n\\nBritish A...  business\n4  Pernod takeover talk lifts Domecq\\n\\nShares in...  business",
      "text/html": "<div>\n<style scoped>\n    .dataframe tbody tr th:only-of-type {\n        vertical-align: middle;\n    }\n\n    .dataframe tbody tr th {\n        vertical-align: top;\n    }\n\n    .dataframe thead th {\n        text-align: right;\n    }\n</style>\n<table border=\"1\" class=\"dataframe\">\n  <thead>\n    <tr style=\"text-align: right;\">\n      <th></th>\n      <th>text</th>\n      <th>labels</th>\n    </tr>\n  </thead>\n  <tbody>\n    <tr>\n      <th>0</th>\n      <td>Ad sales boost Time Warner profit\\n\\nQuarterly...</td>\n      <td>business</td>\n    </tr>\n    <tr>\n      <th>1</th>\n      <td>Dollar gains on Greenspan speech\\n\\nThe dollar...</td>\n      <td>business</td>\n    </tr>\n    <tr>\n      <th>2</th>\n      <td>Yukos unit buyer faces loan claim\\n\\nThe owner...</td>\n      <td>business</td>\n    </tr>\n    <tr>\n      <th>3</th>\n      <td>High fuel prices hit BA's profits\\n\\nBritish A...</td>\n      <td>business</td>\n    </tr>\n    <tr>\n      <th>4</th>\n      <td>Pernod takeover talk lifts Domecq\\n\\nShares in...</td>\n      <td>business</td>\n    </tr>\n  </tbody>\n</table>\n</div>"
     },
     "execution_count": 4,
     "metadata": {},
     "output_type": "execute_result"
    }
   ],
   "source": [
    "df.head()"
   ],
   "metadata": {
    "collapsed": false,
    "ExecuteTime": {
     "end_time": "2023-10-08T19:32:07.928830600Z",
     "start_time": "2023-10-08T19:32:07.860731200Z"
    }
   },
   "id": "48419f00aeb9343"
  },
  {
   "cell_type": "code",
   "execution_count": 5,
   "outputs": [
    {
     "data": {
      "text/plain": "{'business', 'entertainment', 'politics', 'sport', 'tech'}"
     },
     "execution_count": 5,
     "metadata": {},
     "output_type": "execute_result"
    }
   ],
   "source": [
    "labels = set(df['labels'])\n",
    "\n",
    "labels"
   ],
   "metadata": {
    "collapsed": false,
    "ExecuteTime": {
     "end_time": "2023-10-08T19:32:07.931821900Z",
     "start_time": "2023-10-08T19:32:07.871993200Z"
    }
   },
   "id": "958f0d07d94fe11"
  },
  {
   "cell_type": "markdown",
   "source": [
    "# Pick a Label Whose Data We Want To Train From"
   ],
   "metadata": {
    "collapsed": false
   },
   "id": "39de5eb63c553b5e"
  },
  {
   "cell_type": "code",
   "execution_count": 6,
   "outputs": [],
   "source": [
    "label = 'business'"
   ],
   "metadata": {
    "collapsed": false,
    "ExecuteTime": {
     "end_time": "2023-10-08T19:32:07.940800Z",
     "start_time": "2023-10-08T19:32:07.879069100Z"
    }
   },
   "id": "d70f429d16e437a0"
  },
  {
   "cell_type": "code",
   "execution_count": 7,
   "outputs": [
    {
     "data": {
      "text/plain": "0    Ad sales boost Time Warner profit\\n\\nQuarterly...\n1    Dollar gains on Greenspan speech\\n\\nThe dollar...\n2    Yukos unit buyer faces loan claim\\n\\nThe owner...\n3    High fuel prices hit BA's profits\\n\\nBritish A...\n4    Pernod takeover talk lifts Domecq\\n\\nShares in...\nName: text, dtype: object"
     },
     "execution_count": 7,
     "metadata": {},
     "output_type": "execute_result"
    }
   ],
   "source": [
    "texts = df[df['labels'] == label]['text']\n",
    "\n",
    "texts.head()"
   ],
   "metadata": {
    "collapsed": false,
    "ExecuteTime": {
     "end_time": "2023-10-08T19:32:07.941797400Z",
     "start_time": "2023-10-08T19:32:07.886718800Z"
    }
   },
   "id": "70ba8610e10cc1f6"
  },
  {
   "cell_type": "markdown",
   "source": [
    "# Calculate Counts of Each Word"
   ],
   "metadata": {
    "collapsed": false
   },
   "id": "f030dc328128537c"
  },
  {
   "cell_type": "code",
   "execution_count": 8,
   "outputs": [],
   "source": [
    "# Initialize a dictionary to store probabilities\n",
    "transition_probs = {}  # key: (previous_word, next_word), values: {current_word: counts(current_word)}\n",
    "\n",
    "# Iterate through the documents in the 'texts' list\n",
    "for document in texts:\n",
    "    # Split the document into lines\n",
    "    lines = document.split('\\n')\n",
    "    \n",
    "    # Iterate through the lines in the document\n",
    "    for line in lines:\n",
    "        # Tokenize the line into words\n",
    "        tokens = word_tokenize(line)\n",
    "        \n",
    "        # Iterate through the tokens, excluding the last two words\n",
    "        for i in range(len(tokens) - 2):\n",
    "            # Extract current, next, and next-next words\n",
    "            current_word = tokens[i]\n",
    "            next_word = tokens[i + 1]\n",
    "            next_next_word = tokens[i + 2]\n",
    "            \n",
    "            # Create a key for the transition probabilities dictionary\n",
    "            transition_key = (current_word, next_next_word)\n",
    "            \n",
    "            # Check if the key is not in the transition_probs dictionary, add it if not\n",
    "            if transition_key not in transition_probs:\n",
    "                transition_probs[transition_key] = {}\n",
    "            \n",
    "            # Check if the next_word is not in the transition_probs dictionary under the given key, add it if not\n",
    "            if next_word not in transition_probs[transition_key]:\n",
    "                transition_probs[transition_key][next_word] = 1\n",
    "            else:\n",
    "                # Increment the count of the next_word under the given key\n",
    "                transition_probs[transition_key][next_word] += 1"
   ],
   "metadata": {
    "collapsed": false,
    "ExecuteTime": {
     "end_time": "2023-10-08T19:32:09.349134400Z",
     "start_time": "2023-10-08T19:32:07.896915900Z"
    }
   },
   "id": "4fbba4b98ce023fc"
  },
  {
   "cell_type": "markdown",
   "source": [
    "# Normalize The Probabilities"
   ],
   "metadata": {
    "collapsed": false
   },
   "id": "bfb9f9b40ed026c0"
  },
  {
   "cell_type": "code",
   "execution_count": 10,
   "outputs": [],
   "source": [
    "# Iterate through the items in the 'transition_probs' dictionary\n",
    "for key, inner_dict in transition_probs.items():\n",
    "    # Calculate the total count of values in the inner dictionary\n",
    "    total_count = sum(inner_dict.values())\n",
    "    \n",
    "    # Iterate through the items in the inner dictionary\n",
    "    for inner_key, inner_value in inner_dict.items():\n",
    "        # Update the inner dictionary values by dividing them with the total count\n",
    "        inner_dict[inner_key] = inner_value / total_count"
   ],
   "metadata": {
    "collapsed": false,
    "ExecuteTime": {
     "end_time": "2023-10-08T19:32:09.593498700Z",
     "start_time": "2023-10-08T19:32:09.497738900Z"
    }
   },
   "id": "7f60b3f3c77861e1"
  },
  {
   "cell_type": "code",
   "execution_count": 12,
   "outputs": [
    {
     "data": {
      "text/plain": "['Ad sales boost Time Warner profit',\n '',\n 'Quarterly profits at US media giant TimeWarner jumped 76% to $1.13bn (£600m) for the three months to December, from $639m year-earlier.',\n '',\n 'The firm, which is now one of the biggest investors in Google, benefited from sales of high-speed internet connections and higher advert sales. TimeWarner said fourth quarter sales rose 2% to $11.1bn from $10.9bn. Its profits were buoyed by one-off gains which offset a profit dip at Warner Bros, and less users for AOL.',\n '',\n \"Time Warner said on Friday that it now owns 8% of search-engine Google. But its own internet business, AOL, had has mixed fortunes. It lost 464,000 subscribers in the fourth quarter profits were lower than in the preceding three quarters. However, the company said AOL's underlying profit before exceptional items rose 8% on the back of stronger internet advertising revenues. It hopes to increase subscribers by offering the online service free to TimeWarner internet customers and will try to sign up AOL's existing customers for high-speed broadband. TimeWarner also has to restate 2000 and 2003 results following a probe by the US Securities Exchange Commission (SEC), which is close to concluding.\",\n '',\n 'Time Warner\\'s fourth quarter profits were slightly better than analysts\\' expectations. But its film division saw profits slump 27% to $284m, helped by box-office flops Alexander and Catwoman, a sharp contrast to year-earlier, when the third and final film in the Lord of the Rings trilogy boosted results. For the full-year, TimeWarner posted a profit of $3.36bn, up 27% from its 2003 performance, while revenues grew 6.4% to $42.09bn. \"Our financial performance was strong, meeting or exceeding all of our full-year objectives and greatly enhancing our flexibility,\" chairman and chief executive Richard Parsons said. For 2005, TimeWarner is projecting operating earnings growth of around 5%, and also expects higher revenue and wider profit margins.',\n '',\n \"TimeWarner is to restate its accounts as part of efforts to resolve an inquiry into AOL by US market regulators. It has already offered to pay $300m to settle charges, in a deal that is under review by the SEC. The company said it was unable to estimate the amount it needed to set aside for legal reserves, which it previously set at $500m. It intends to adjust the way it accounts for a deal with German music publisher Bertelsmann's purchase of a stake in AOL Europe, which it had reported as advertising revenue. It will now book the sale of its stake in AOL Europe as a loss on the value of that stake.\"]"
     },
     "execution_count": 12,
     "metadata": {},
     "output_type": "execute_result"
    }
   ],
   "source": [
    "texts.iloc[0].split('\\n')"
   ],
   "metadata": {
    "collapsed": false,
    "ExecuteTime": {
     "end_time": "2023-10-08T19:32:09.737593400Z",
     "start_time": "2023-10-08T19:32:09.710677400Z"
    }
   },
   "id": "eb8f02b2bc92faed"
  },
  {
   "cell_type": "markdown",
   "source": [
    "# High Level Spinning, Spinning Article Paragraphs"
   ],
   "metadata": {
    "collapsed": false
   },
   "id": "66329b242f3efa78"
  },
  {
   "cell_type": "code",
   "execution_count": 13,
   "outputs": [],
   "source": [
    "def spin_document(document):\n",
    "    \"\"\"\n",
    "    Spin the lines of a document using the spin_line function.\n",
    "    \n",
    "    Args:\n",
    "    document (str): Input document as a string.\n",
    "    \n",
    "    Returns:\n",
    "    str: Spun document with lines processed by spin_line.\n",
    "    \"\"\"\n",
    "    # Split the document into lines\n",
    "    lines = document.split('\\n')\n",
    "    output = []\n",
    "    \n",
    "    # Iterate through the lines in the document\n",
    "    for line in lines:\n",
    "        # Check if the line is not empty\n",
    "        if line:\n",
    "            # Process the line using the spin_line function\n",
    "            new_line = spin_line(line)\n",
    "        else:\n",
    "            # If the line is empty, keep it unchanged\n",
    "            new_line = line\n",
    "        # Add the processed line to the output list\n",
    "        output.append(new_line)\n",
    "    \n",
    "    # Join the output list into a single string with newline characters\n",
    "    return '\\n'.join(output)"
   ],
   "metadata": {
    "collapsed": false,
    "ExecuteTime": {
     "end_time": "2023-10-08T19:32:09.737593400Z",
     "start_time": "2023-10-08T19:32:09.711674600Z"
    }
   },
   "id": "77398a00fbbc01a9"
  },
  {
   "cell_type": "markdown",
   "source": [
    "# Building Detokenizer"
   ],
   "metadata": {
    "collapsed": false
   },
   "id": "d3f98cfc3eb54f59"
  },
  {
   "cell_type": "code",
   "execution_count": 14,
   "outputs": [],
   "source": [
    "detokenizer = TreebankWordDetokenizer()"
   ],
   "metadata": {
    "collapsed": false,
    "ExecuteTime": {
     "end_time": "2023-10-08T19:32:09.738594Z",
     "start_time": "2023-10-08T19:32:09.716828600Z"
    }
   },
   "id": "8f012956bf8fc846"
  },
  {
   "cell_type": "code",
   "execution_count": 15,
   "outputs": [
    {
     "data": {
      "text/plain": "'Quarterly profits at US media giant TimeWarner jumped 76% to $1.13bn (£600m) for the three months to December, from $639m year-earlier.'"
     },
     "execution_count": 15,
     "metadata": {},
     "output_type": "execute_result"
    }
   ],
   "source": [
    "texts.iloc[0].split('\\n')[2]"
   ],
   "metadata": {
    "collapsed": false,
    "ExecuteTime": {
     "end_time": "2023-10-08T19:32:09.861059700Z",
     "start_time": "2023-10-08T19:32:09.723449400Z"
    }
   },
   "id": "d609cc0d15f67327"
  },
  {
   "cell_type": "code",
   "execution_count": 16,
   "outputs": [
    {
     "data": {
      "text/plain": "'Quarterly profits at US media giant TimeWarner jumped 76% to $1.13bn (£600m) for the three months to December, from $639m year-earlier.'"
     },
     "execution_count": 16,
     "metadata": {},
     "output_type": "execute_result"
    }
   ],
   "source": [
    "detokenizer.detokenize(word_tokenize(texts.iloc[0].split('\\n')[2]))"
   ],
   "metadata": {
    "collapsed": false,
    "ExecuteTime": {
     "end_time": "2023-10-08T19:32:09.887987500Z",
     "start_time": "2023-10-08T19:32:09.734295100Z"
    }
   },
   "id": "13a2f9d3c03d0498"
  },
  {
   "cell_type": "code",
   "execution_count": 17,
   "outputs": [],
   "source": [
    "def sample_word(probabilities):\n",
    "    \"\"\"\n",
    "    Sample a word from a dictionary of probabilities.\n",
    "    \n",
    "    Args:\n",
    "    probabilities (dict): A dictionary where keys are words and values are corresponding probabilities.\n",
    "    \n",
    "    Returns:\n",
    "    str: A randomly sampled word based on the provided probabilities.\n",
    "    \"\"\"\n",
    "    # Generate a random probability between 0 and 1\n",
    "    random_prob = np.random.random()\n",
    "    cumulative_prob = 0\n",
    "    \n",
    "    # Iterate through the items in the dictionary\n",
    "    for word, prob in probabilities.items():\n",
    "        # Add the probability of the current word to the cumulative probability\n",
    "        cumulative_prob += prob\n",
    "        \n",
    "        # Check if the random probability is less than or equal to the cumulative probability\n",
    "        if random_prob < cumulative_prob:\n",
    "            # Return the current word if the condition is met\n",
    "            return word\n",
    "    \n",
    "    # If the function reaches this point, raise an assertion error (should never get here)\n",
    "    assert False, \"Unexpected state: Random word not sampled based on probabilities\""
   ],
   "metadata": {
    "collapsed": false,
    "ExecuteTime": {
     "end_time": "2023-10-08T19:32:09.888986Z",
     "start_time": "2023-10-08T19:32:09.740589900Z"
    }
   },
   "id": "f3fce9cfd389977e"
  },
  {
   "cell_type": "code",
   "execution_count": 18,
   "outputs": [],
   "source": [
    "def spin_line(input_line):\n",
    "    \"\"\"\n",
    "    Spin the words in a line using the probabilities from the 'probs' dictionary.\n",
    "    \n",
    "    Args:\n",
    "    input_line (str): Input line as a string.\n",
    "    \n",
    "    Returns:\n",
    "    list: List of spun words.\n",
    "    \"\"\"\n",
    "    # Tokenize the input line into words\n",
    "    tokens = word_tokenize(input_line)\n",
    "    index = 0\n",
    "    spun_words = [tokens[0]]\n",
    "    \n",
    "    # Iterate through the tokens, excluding the last two words\n",
    "    while index < (len(tokens) - 2):\n",
    "        word_0 = tokens[index]\n",
    "        word_1 = tokens[index + 1]\n",
    "        word_2 = tokens[index + 2]\n",
    "        key = (word_0, word_2)\n",
    "        probability_distribution = transition_probs[key]\n",
    "        \n",
    "        # Check if there are multiple options and a random condition is met\n",
    "        if len(probability_distribution) > 1 and np.random.random() < 0.3:\n",
    "            middle_word = sample_word(probability_distribution)\n",
    "            \n",
    "            # Add the words and a placeholder for the middle word to the spun_words list\n",
    "            spun_words.append(word_1)\n",
    "            spun_words.append('<' + middle_word + '>')\n",
    "            spun_words.append(word_2)\n",
    "            \n",
    "            index += 2\n",
    "        else:\n",
    "            # If the random condition is not met, keep the original words in the spun_words list\n",
    "            spun_words.append(word_1)\n",
    "            index += 1\n",
    "\n",
    "    if index == len (tokens) - 2 :\n",
    "        spun_words.append(tokens[-1])\n",
    "\n",
    "    return detokenizer.detokenize(spun_words)"
   ],
   "metadata": {
    "collapsed": false,
    "ExecuteTime": {
     "end_time": "2023-10-08T19:32:09.889982300Z",
     "start_time": "2023-10-08T19:32:09.749044400Z"
    }
   },
   "id": "b08e2aa9dcf18b42"
  },
  {
   "cell_type": "code",
   "execution_count": 19,
   "outputs": [],
   "source": [
    "np.random.seed(1234)"
   ],
   "metadata": {
    "collapsed": false,
    "ExecuteTime": {
     "end_time": "2023-10-08T19:32:09.890979900Z",
     "start_time": "2023-10-08T19:32:09.756780800Z"
    }
   },
   "id": "7eccd0977ceeccee"
  },
  {
   "cell_type": "code",
   "execution_count": 20,
   "outputs": [],
   "source": [
    "# Choose a random index from the 'texts' array\n",
    "random_index = np.random.choice(texts.shape[0])\n",
    "\n",
    "# Retrieve the document at the selected index\n",
    "selected_doc = texts.iloc[random_index]\n",
    "\n",
    "# Apply the 'spin_document' function to the selected document\n",
    "spun_doc = spin_document(selected_doc)"
   ],
   "metadata": {
    "collapsed": false,
    "ExecuteTime": {
     "end_time": "2023-10-08T19:32:09.890979900Z",
     "start_time": "2023-10-08T19:32:09.764763Z"
    }
   },
   "id": "25d9ce601c81d1de"
  },
  {
   "cell_type": "code",
   "execution_count": 21,
   "outputs": [
    {
     "name": "stdout",
     "output_type": "stream",
     "text": [
      "Bombardier chief to leave company\n",
      "\n",
      "Shares in train and plane-making\n",
      "giant Bombardier have fallen to <to> a 10-year low following <against>\n",
      "the departure <hands> of its chief executive and two members of the\n",
      "<key> board.\n",
      "\n",
      "Paul Tellier, who <which> was also Bombardier's\n",
      "president <epicentre>, left the company amid an ongoing <£80m>\n",
      "restructuring . Laurent Beaudoin, part of the family that controls the\n",
      "Montreal-based firm, will take on <over> the role of CEO under a newly\n",
      "created management structure . Analysts said <believe> the\n",
      "resignations seem to have stemmed from a boardroom dispute . Under Mr\n",
      "Tellier's tenure at the company <subsidy>, which began in January\n",
      "<July> 2003, plans <according> to cut the worldwide workforce of\n",
      "75,000 by almost <signing> a third <movement> by 2006 were announced .\n",
      "The firm's snowmobile <auto> division and defence services unit were\n",
      "also sold and Bombardier started the development <future> of a new\n",
      "aircraft seating 110 to 135 passengers.\n",
      "\n",
      "Mr Tellier had indicated he\n",
      "wanted to stay <expand> at the world <industry>'s top train maker and\n",
      "third largest manufacturer of civil aircraft until the restructuring\n",
      "was complete . But Bombardier has been faced <charged> with a\n",
      "declining share price and profits . Earlier this month the firm\n",
      "<government> said it earned $10m <100m> (£19.2m) in <for> the third\n",
      "<third> quarter, down from <from> a profit <bid> of $133m a year\n",
      "<year> ago . \"I understand the board <UK>'s concern that I would not\n",
      "be there for the <the> long-term and the need to develop and execute\n",
      "strategies, and <\"> the need to reshape the management <career>\n",
      "structure at this time,\" <\"> Mr Tellier said in a statement <meeting>\n",
      "on Monday <agriculture>. Bombardier said restructuring plans drawn up\n",
      "by Mr Tellier's would continue to be implemented . Shares in\n",
      "Bombardier lost 65 Canadian cents or 25% on <In> the news to 1.90\n",
      "Canadian dollars before rallying to 2.20 <2.20> Canadian dollars\n",
      "<dollar>.\n"
     ]
    }
   ],
   "source": [
    "print(textwrap.fill(\n",
    "    spun_doc, replace_whitespace=False, fix_sentence_endings=True\n",
    "))"
   ],
   "metadata": {
    "collapsed": false,
    "ExecuteTime": {
     "end_time": "2023-10-08T19:32:09.891976600Z",
     "start_time": "2023-10-08T19:32:09.773267400Z"
    }
   },
   "id": "d7f9941a57d6025d"
  },
  {
   "cell_type": "code",
   "execution_count": 21,
   "outputs": [],
   "source": [],
   "metadata": {
    "collapsed": false,
    "ExecuteTime": {
     "end_time": "2023-10-08T19:32:09.891976600Z",
     "start_time": "2023-10-08T19:32:09.779276300Z"
    }
   },
   "id": "f1b85db32f3892ac"
  }
 ],
 "metadata": {
  "kernelspec": {
   "display_name": "Python 3",
   "language": "python",
   "name": "python3"
  },
  "language_info": {
   "codemirror_mode": {
    "name": "ipython",
    "version": 2
   },
   "file_extension": ".py",
   "mimetype": "text/x-python",
   "name": "python",
   "nbconvert_exporter": "python",
   "pygments_lexer": "ipython2",
   "version": "2.7.6"
  }
 },
 "nbformat": 4,
 "nbformat_minor": 5
}
